{
 "cells": [
  {
   "cell_type": "code",
   "execution_count": 45,
   "id": "03fee4b0",
   "metadata": {},
   "outputs": [],
   "source": [
    "import pandas as pd\n",
    "import numpy as np\n",
    "\n",
    "df = pd.read_csv('./data/world-happiness-report.csv')"
   ]
  },
  {
   "cell_type": "code",
   "execution_count": 58,
   "id": "18caeab1",
   "metadata": {},
   "outputs": [
    {
     "data": {
      "text/html": [
       "<div>\n",
       "<style scoped>\n",
       "    .dataframe tbody tr th:only-of-type {\n",
       "        vertical-align: middle;\n",
       "    }\n",
       "\n",
       "    .dataframe tbody tr th {\n",
       "        vertical-align: top;\n",
       "    }\n",
       "\n",
       "    .dataframe thead th {\n",
       "        text-align: right;\n",
       "    }\n",
       "</style>\n",
       "<table border=\"1\" class=\"dataframe\">\n",
       "  <thead>\n",
       "    <tr style=\"text-align: right;\">\n",
       "      <th></th>\n",
       "      <th>Country name</th>\n",
       "      <th>year</th>\n",
       "      <th>Life Ladder</th>\n",
       "      <th>Log GDP per capita</th>\n",
       "      <th>Social support</th>\n",
       "      <th>Healthy life expectancy at birth</th>\n",
       "      <th>Freedom to make life choices</th>\n",
       "      <th>Generosity</th>\n",
       "      <th>Perceptions of corruption</th>\n",
       "      <th>Positive affect</th>\n",
       "      <th>Negative affect</th>\n",
       "    </tr>\n",
       "  </thead>\n",
       "  <tbody>\n",
       "    <tr>\n",
       "      <th>1946</th>\n",
       "      <td>Zimbabwe</td>\n",
       "      <td>2018</td>\n",
       "      <td>3.616</td>\n",
       "      <td>8.049</td>\n",
       "      <td>0.775</td>\n",
       "      <td>55.6</td>\n",
       "      <td>0.763</td>\n",
       "      <td>-0.068</td>\n",
       "      <td>0.844</td>\n",
       "      <td>0.710</td>\n",
       "      <td>0.212</td>\n",
       "    </tr>\n",
       "    <tr>\n",
       "      <th>1947</th>\n",
       "      <td>Zimbabwe</td>\n",
       "      <td>2019</td>\n",
       "      <td>2.694</td>\n",
       "      <td>7.950</td>\n",
       "      <td>0.759</td>\n",
       "      <td>56.2</td>\n",
       "      <td>0.632</td>\n",
       "      <td>-0.064</td>\n",
       "      <td>0.831</td>\n",
       "      <td>0.716</td>\n",
       "      <td>0.235</td>\n",
       "    </tr>\n",
       "    <tr>\n",
       "      <th>1948</th>\n",
       "      <td>Zimbabwe</td>\n",
       "      <td>2020</td>\n",
       "      <td>3.160</td>\n",
       "      <td>7.829</td>\n",
       "      <td>0.717</td>\n",
       "      <td>56.8</td>\n",
       "      <td>0.643</td>\n",
       "      <td>-0.009</td>\n",
       "      <td>0.789</td>\n",
       "      <td>0.703</td>\n",
       "      <td>0.346</td>\n",
       "    </tr>\n",
       "  </tbody>\n",
       "</table>\n",
       "</div>"
      ],
      "text/plain": [
       "     Country name  year  Life Ladder  Log GDP per capita  Social support  \\\n",
       "1946     Zimbabwe  2018        3.616               8.049           0.775   \n",
       "1947     Zimbabwe  2019        2.694               7.950           0.759   \n",
       "1948     Zimbabwe  2020        3.160               7.829           0.717   \n",
       "\n",
       "      Healthy life expectancy at birth  Freedom to make life choices  \\\n",
       "1946                              55.6                         0.763   \n",
       "1947                              56.2                         0.632   \n",
       "1948                              56.8                         0.643   \n",
       "\n",
       "      Generosity  Perceptions of corruption  Positive affect  Negative affect  \n",
       "1946      -0.068                      0.844            0.710            0.212  \n",
       "1947      -0.064                      0.831            0.716            0.235  \n",
       "1948      -0.009                      0.789            0.703            0.346  "
      ]
     },
     "execution_count": 58,
     "metadata": {},
     "output_type": "execute_result"
    }
   ],
   "source": [
    "df.head(3)\n",
    "df.tail(3)"
   ]
  },
  {
   "cell_type": "code",
   "execution_count": 47,
   "id": "0c28221a",
   "metadata": {},
   "outputs": [
    {
     "data": {
      "text/plain": [
       "(1949, 11)"
      ]
     },
     "execution_count": 47,
     "metadata": {},
     "output_type": "execute_result"
    }
   ],
   "source": [
    "df.shape"
   ]
  },
  {
   "cell_type": "code",
   "execution_count": 48,
   "id": "79095251",
   "metadata": {},
   "outputs": [
    {
     "data": {
      "text/plain": [
       "Country name                          0\n",
       "year                                  0\n",
       "Life Ladder                           0\n",
       "Log GDP per capita                   36\n",
       "Social support                       13\n",
       "Healthy life expectancy at birth     55\n",
       "Freedom to make life choices         32\n",
       "Generosity                           89\n",
       "Perceptions of corruption           110\n",
       "Positive affect                      22\n",
       "Negative affect                      16\n",
       "dtype: int64"
      ]
     },
     "execution_count": 48,
     "metadata": {},
     "output_type": "execute_result"
    }
   ],
   "source": [
    "df.isnull().sum()"
   ]
  },
  {
   "cell_type": "code",
   "execution_count": 49,
   "id": "404307fa",
   "metadata": {
    "scrolled": false
   },
   "outputs": [
    {
     "name": "stdout",
     "output_type": "stream",
     "text": [
      "<class 'pandas.core.frame.DataFrame'>\n",
      "RangeIndex: 1949 entries, 0 to 1948\n",
      "Data columns (total 11 columns):\n",
      " #   Column                            Non-Null Count  Dtype  \n",
      "---  ------                            --------------  -----  \n",
      " 0   Country name                      1949 non-null   object \n",
      " 1   year                              1949 non-null   int64  \n",
      " 2   Life Ladder                       1949 non-null   float64\n",
      " 3   Log GDP per capita                1913 non-null   float64\n",
      " 4   Social support                    1936 non-null   float64\n",
      " 5   Healthy life expectancy at birth  1894 non-null   float64\n",
      " 6   Freedom to make life choices      1917 non-null   float64\n",
      " 7   Generosity                        1860 non-null   float64\n",
      " 8   Perceptions of corruption         1839 non-null   float64\n",
      " 9   Positive affect                   1927 non-null   float64\n",
      " 10  Negative affect                   1933 non-null   float64\n",
      "dtypes: float64(9), int64(1), object(1)\n",
      "memory usage: 167.6+ KB\n"
     ]
    }
   ],
   "source": [
    "df.info()"
   ]
  },
  {
   "cell_type": "markdown",
   "id": "1ddf8947",
   "metadata": {},
   "source": [
    "### 상관계수 확인해보기(...굳이 필요한지 의문)"
   ]
  },
  {
   "cell_type": "code",
   "execution_count": 56,
   "id": "3ed7b517",
   "metadata": {
    "scrolled": false
   },
   "outputs": [
    {
     "data": {
      "text/html": [
       "<div>\n",
       "<style scoped>\n",
       "    .dataframe tbody tr th:only-of-type {\n",
       "        vertical-align: middle;\n",
       "    }\n",
       "\n",
       "    .dataframe tbody tr th {\n",
       "        vertical-align: top;\n",
       "    }\n",
       "\n",
       "    .dataframe thead th {\n",
       "        text-align: right;\n",
       "    }\n",
       "</style>\n",
       "<table border=\"1\" class=\"dataframe\">\n",
       "  <thead>\n",
       "    <tr style=\"text-align: right;\">\n",
       "      <th></th>\n",
       "      <th>Country name</th>\n",
       "      <th>Life Ladder</th>\n",
       "      <th>Log GDP per capita</th>\n",
       "      <th>Social support</th>\n",
       "      <th>Healthy life expectancy at birth</th>\n",
       "      <th>Freedom to make life choices</th>\n",
       "      <th>Generosity</th>\n",
       "      <th>Perceptions of corruption</th>\n",
       "      <th>Positive affect</th>\n",
       "      <th>Negative affect</th>\n",
       "    </tr>\n",
       "  </thead>\n",
       "  <tbody>\n",
       "    <tr>\n",
       "      <th>0</th>\n",
       "      <td>Afghanistan</td>\n",
       "      <td>3.724</td>\n",
       "      <td>7.370</td>\n",
       "      <td>0.451</td>\n",
       "      <td>50.80</td>\n",
       "      <td>0.718</td>\n",
       "      <td>0.168</td>\n",
       "      <td>0.882</td>\n",
       "      <td>0.518</td>\n",
       "      <td>0.258</td>\n",
       "    </tr>\n",
       "    <tr>\n",
       "      <th>1</th>\n",
       "      <td>Afghanistan</td>\n",
       "      <td>4.402</td>\n",
       "      <td>7.540</td>\n",
       "      <td>0.552</td>\n",
       "      <td>51.20</td>\n",
       "      <td>0.679</td>\n",
       "      <td>0.190</td>\n",
       "      <td>0.850</td>\n",
       "      <td>0.584</td>\n",
       "      <td>0.237</td>\n",
       "    </tr>\n",
       "    <tr>\n",
       "      <th>2</th>\n",
       "      <td>Afghanistan</td>\n",
       "      <td>4.758</td>\n",
       "      <td>7.647</td>\n",
       "      <td>0.539</td>\n",
       "      <td>51.60</td>\n",
       "      <td>0.600</td>\n",
       "      <td>0.121</td>\n",
       "      <td>0.707</td>\n",
       "      <td>0.618</td>\n",
       "      <td>0.275</td>\n",
       "    </tr>\n",
       "    <tr>\n",
       "      <th>3</th>\n",
       "      <td>Afghanistan</td>\n",
       "      <td>3.832</td>\n",
       "      <td>7.620</td>\n",
       "      <td>0.521</td>\n",
       "      <td>51.92</td>\n",
       "      <td>0.496</td>\n",
       "      <td>0.162</td>\n",
       "      <td>0.731</td>\n",
       "      <td>0.611</td>\n",
       "      <td>0.267</td>\n",
       "    </tr>\n",
       "    <tr>\n",
       "      <th>4</th>\n",
       "      <td>Afghanistan</td>\n",
       "      <td>3.783</td>\n",
       "      <td>7.705</td>\n",
       "      <td>0.521</td>\n",
       "      <td>52.24</td>\n",
       "      <td>0.531</td>\n",
       "      <td>0.236</td>\n",
       "      <td>0.776</td>\n",
       "      <td>0.710</td>\n",
       "      <td>0.268</td>\n",
       "    </tr>\n",
       "  </tbody>\n",
       "</table>\n",
       "</div>"
      ],
      "text/plain": [
       "  Country name  Life Ladder  Log GDP per capita  Social support  \\\n",
       "0  Afghanistan        3.724               7.370           0.451   \n",
       "1  Afghanistan        4.402               7.540           0.552   \n",
       "2  Afghanistan        4.758               7.647           0.539   \n",
       "3  Afghanistan        3.832               7.620           0.521   \n",
       "4  Afghanistan        3.783               7.705           0.521   \n",
       "\n",
       "   Healthy life expectancy at birth  Freedom to make life choices  Generosity  \\\n",
       "0                             50.80                         0.718       0.168   \n",
       "1                             51.20                         0.679       0.190   \n",
       "2                             51.60                         0.600       0.121   \n",
       "3                             51.92                         0.496       0.162   \n",
       "4                             52.24                         0.531       0.236   \n",
       "\n",
       "   Perceptions of corruption  Positive affect  Negative affect  \n",
       "0                      0.882            0.518            0.258  \n",
       "1                      0.850            0.584            0.237  \n",
       "2                      0.707            0.618            0.275  \n",
       "3                      0.731            0.611            0.267  \n",
       "4                      0.776            0.710            0.268  "
      ]
     },
     "execution_count": 56,
     "metadata": {},
     "output_type": "execute_result"
    }
   ],
   "source": [
    "X1 = df.drop('year', axis=1)\n",
    "X1.head()"
   ]
  },
  {
   "cell_type": "code",
   "execution_count": 59,
   "id": "5122030e",
   "metadata": {
    "scrolled": true
   },
   "outputs": [
    {
     "data": {
      "text/plain": [
       "Life Ladder                         0.372595\n",
       "Log GDP per capita                  0.335580\n",
       "Social support                      0.327501\n",
       "Healthy life expectancy at birth    0.345006\n",
       "Freedom to make life choices        0.282400\n",
       "Generosity                          0.157482\n",
       "Perceptions of corruption          -0.113073\n",
       "Positive affect                     0.285601\n",
       "Negative affect                    -0.051862\n",
       "dtype: float64"
      ]
     },
     "execution_count": 59,
     "metadata": {},
     "output_type": "execute_result"
    }
   ],
   "source": [
    "# 상관계수 확인\n",
    "X1.corr().sum()/(len(X1.columns)) # 관계성이 높지 않음을 확인"
   ]
  },
  {
   "cell_type": "markdown",
   "id": "aaccefb0",
   "metadata": {},
   "source": [
    "### 데이터 분할 전, 결측치 대체하기"
   ]
  },
  {
   "cell_type": "markdown",
   "id": "ef1c9590",
   "metadata": {},
   "source": [
    "##### 시계열(?) 데이터로 보고 fillna() 이용해서 이전 또는 이후 데이터로 결측치 대체"
   ]
  },
  {
   "cell_type": "code",
   "execution_count": 50,
   "id": "af48568c",
   "metadata": {},
   "outputs": [],
   "source": [
    "# 결측 데이터 이전에서 유효한 값으로 채우고, 유효값이 없을 경우에는 이후에 유효한 값으로 채우게 되는 코드\n",
    "df = df.fillna(method='ffill').fillna(method='bfill')"
   ]
  },
  {
   "cell_type": "code",
   "execution_count": 51,
   "id": "fe6178e3",
   "metadata": {
    "scrolled": true
   },
   "outputs": [
    {
     "data": {
      "text/plain": [
       "Country name                        0\n",
       "year                                0\n",
       "Life Ladder                         0\n",
       "Log GDP per capita                  0\n",
       "Social support                      0\n",
       "Healthy life expectancy at birth    0\n",
       "Freedom to make life choices        0\n",
       "Generosity                          0\n",
       "Perceptions of corruption           0\n",
       "Positive affect                     0\n",
       "Negative affect                     0\n",
       "dtype: int64"
      ]
     },
     "execution_count": 51,
     "metadata": {},
     "output_type": "execute_result"
    }
   ],
   "source": [
    "df.isnull().sum()"
   ]
  },
  {
   "cell_type": "markdown",
   "id": "084c8383",
   "metadata": {},
   "source": [
    "### 데이터 분할하기"
   ]
  },
  {
   "cell_type": "code",
   "execution_count": 70,
   "id": "464cadcf",
   "metadata": {},
   "outputs": [],
   "source": [
    "# X, Y 분할\n",
    "X = df.drop('Country name', axis = 1)\n",
    "y = df[['Country name']]"
   ]
  },
  {
   "cell_type": "code",
   "execution_count": 53,
   "id": "9234a0fe",
   "metadata": {},
   "outputs": [
    {
     "data": {
      "text/html": [
       "<div>\n",
       "<style scoped>\n",
       "    .dataframe tbody tr th:only-of-type {\n",
       "        vertical-align: middle;\n",
       "    }\n",
       "\n",
       "    .dataframe tbody tr th {\n",
       "        vertical-align: top;\n",
       "    }\n",
       "\n",
       "    .dataframe thead th {\n",
       "        text-align: right;\n",
       "    }\n",
       "</style>\n",
       "<table border=\"1\" class=\"dataframe\">\n",
       "  <thead>\n",
       "    <tr style=\"text-align: right;\">\n",
       "      <th></th>\n",
       "      <th>year</th>\n",
       "      <th>Life Ladder</th>\n",
       "      <th>Log GDP per capita</th>\n",
       "      <th>Social support</th>\n",
       "      <th>Healthy life expectancy at birth</th>\n",
       "      <th>Freedom to make life choices</th>\n",
       "      <th>Generosity</th>\n",
       "      <th>Perceptions of corruption</th>\n",
       "      <th>Positive affect</th>\n",
       "      <th>Negative affect</th>\n",
       "    </tr>\n",
       "  </thead>\n",
       "  <tbody>\n",
       "    <tr>\n",
       "      <th>0</th>\n",
       "      <td>2008</td>\n",
       "      <td>3.724</td>\n",
       "      <td>7.370</td>\n",
       "      <td>0.451</td>\n",
       "      <td>50.80</td>\n",
       "      <td>0.718</td>\n",
       "      <td>0.168</td>\n",
       "      <td>0.882</td>\n",
       "      <td>0.518</td>\n",
       "      <td>0.258</td>\n",
       "    </tr>\n",
       "    <tr>\n",
       "      <th>1</th>\n",
       "      <td>2009</td>\n",
       "      <td>4.402</td>\n",
       "      <td>7.540</td>\n",
       "      <td>0.552</td>\n",
       "      <td>51.20</td>\n",
       "      <td>0.679</td>\n",
       "      <td>0.190</td>\n",
       "      <td>0.850</td>\n",
       "      <td>0.584</td>\n",
       "      <td>0.237</td>\n",
       "    </tr>\n",
       "    <tr>\n",
       "      <th>2</th>\n",
       "      <td>2010</td>\n",
       "      <td>4.758</td>\n",
       "      <td>7.647</td>\n",
       "      <td>0.539</td>\n",
       "      <td>51.60</td>\n",
       "      <td>0.600</td>\n",
       "      <td>0.121</td>\n",
       "      <td>0.707</td>\n",
       "      <td>0.618</td>\n",
       "      <td>0.275</td>\n",
       "    </tr>\n",
       "    <tr>\n",
       "      <th>3</th>\n",
       "      <td>2011</td>\n",
       "      <td>3.832</td>\n",
       "      <td>7.620</td>\n",
       "      <td>0.521</td>\n",
       "      <td>51.92</td>\n",
       "      <td>0.496</td>\n",
       "      <td>0.162</td>\n",
       "      <td>0.731</td>\n",
       "      <td>0.611</td>\n",
       "      <td>0.267</td>\n",
       "    </tr>\n",
       "    <tr>\n",
       "      <th>4</th>\n",
       "      <td>2012</td>\n",
       "      <td>3.783</td>\n",
       "      <td>7.705</td>\n",
       "      <td>0.521</td>\n",
       "      <td>52.24</td>\n",
       "      <td>0.531</td>\n",
       "      <td>0.236</td>\n",
       "      <td>0.776</td>\n",
       "      <td>0.710</td>\n",
       "      <td>0.268</td>\n",
       "    </tr>\n",
       "  </tbody>\n",
       "</table>\n",
       "</div>"
      ],
      "text/plain": [
       "   year  Life Ladder  Log GDP per capita  Social support  \\\n",
       "0  2008        3.724               7.370           0.451   \n",
       "1  2009        4.402               7.540           0.552   \n",
       "2  2010        4.758               7.647           0.539   \n",
       "3  2011        3.832               7.620           0.521   \n",
       "4  2012        3.783               7.705           0.521   \n",
       "\n",
       "   Healthy life expectancy at birth  Freedom to make life choices  Generosity  \\\n",
       "0                             50.80                         0.718       0.168   \n",
       "1                             51.20                         0.679       0.190   \n",
       "2                             51.60                         0.600       0.121   \n",
       "3                             51.92                         0.496       0.162   \n",
       "4                             52.24                         0.531       0.236   \n",
       "\n",
       "   Perceptions of corruption  Positive affect  Negative affect  \n",
       "0                      0.882            0.518            0.258  \n",
       "1                      0.850            0.584            0.237  \n",
       "2                      0.707            0.618            0.275  \n",
       "3                      0.731            0.611            0.267  \n",
       "4                      0.776            0.710            0.268  "
      ]
     },
     "execution_count": 53,
     "metadata": {},
     "output_type": "execute_result"
    }
   ],
   "source": [
    "X.head()"
   ]
  },
  {
   "cell_type": "code",
   "execution_count": 71,
   "id": "74b8798d",
   "metadata": {
    "scrolled": true
   },
   "outputs": [
    {
     "data": {
      "text/html": [
       "<div>\n",
       "<style scoped>\n",
       "    .dataframe tbody tr th:only-of-type {\n",
       "        vertical-align: middle;\n",
       "    }\n",
       "\n",
       "    .dataframe tbody tr th {\n",
       "        vertical-align: top;\n",
       "    }\n",
       "\n",
       "    .dataframe thead th {\n",
       "        text-align: right;\n",
       "    }\n",
       "</style>\n",
       "<table border=\"1\" class=\"dataframe\">\n",
       "  <thead>\n",
       "    <tr style=\"text-align: right;\">\n",
       "      <th></th>\n",
       "      <th>Country name</th>\n",
       "    </tr>\n",
       "  </thead>\n",
       "  <tbody>\n",
       "    <tr>\n",
       "      <th>0</th>\n",
       "      <td>Afghanistan</td>\n",
       "    </tr>\n",
       "    <tr>\n",
       "      <th>1</th>\n",
       "      <td>Afghanistan</td>\n",
       "    </tr>\n",
       "    <tr>\n",
       "      <th>2</th>\n",
       "      <td>Afghanistan</td>\n",
       "    </tr>\n",
       "    <tr>\n",
       "      <th>3</th>\n",
       "      <td>Afghanistan</td>\n",
       "    </tr>\n",
       "    <tr>\n",
       "      <th>4</th>\n",
       "      <td>Afghanistan</td>\n",
       "    </tr>\n",
       "  </tbody>\n",
       "</table>\n",
       "</div>"
      ],
      "text/plain": [
       "  Country name\n",
       "0  Afghanistan\n",
       "1  Afghanistan\n",
       "2  Afghanistan\n",
       "3  Afghanistan\n",
       "4  Afghanistan"
      ]
     },
     "execution_count": 71,
     "metadata": {},
     "output_type": "execute_result"
    }
   ],
   "source": [
    "y.head()"
   ]
  },
  {
   "cell_type": "markdown",
   "id": "87d229ef",
   "metadata": {},
   "source": [
    "### 클래스 : 레이블 인코딩하기 (...년도도 인코딩 해야하나?)"
   ]
  },
  {
   "cell_type": "code",
   "execution_count": 79,
   "id": "dcda5688",
   "metadata": {},
   "outputs": [],
   "source": [
    "from sklearn import preprocessing\n",
    "\n",
    "# 레이블 인코딩 함수 생성\n",
    "def encode_features(dataDf) :\n",
    "    # 문자열 카테고리 피처\n",
    "    features = y[['Country name']]\n",
    "    for feature in features : # 라벨 인코딩 진행\n",
    "        le = preprocessing.LabelEncoder()\n",
    "        le = le.fit(dataDf[feature])\n",
    "        dataDf[feature] = le.transform(dataDf[feature])\n",
    "    \n",
    "    return dataDf"
   ]
  },
  {
   "cell_type": "code",
   "execution_count": 94,
   "id": "1d68b3b1",
   "metadata": {},
   "outputs": [
    {
     "name": "stderr",
     "output_type": "stream",
     "text": [
      "<ipython-input-79-bb730fc6e651>:10: SettingWithCopyWarning: \n",
      "A value is trying to be set on a copy of a slice from a DataFrame.\n",
      "Try using .loc[row_indexer,col_indexer] = value instead\n",
      "\n",
      "See the caveats in the documentation: https://pandas.pydata.org/pandas-docs/stable/user_guide/indexing.html#returning-a-view-versus-a-copy\n",
      "  dataDf[feature] = le.transform(dataDf[feature])\n"
     ]
    },
    {
     "data": {
      "text/html": [
       "<div>\n",
       "<style scoped>\n",
       "    .dataframe tbody tr th:only-of-type {\n",
       "        vertical-align: middle;\n",
       "    }\n",
       "\n",
       "    .dataframe tbody tr th {\n",
       "        vertical-align: top;\n",
       "    }\n",
       "\n",
       "    .dataframe thead th {\n",
       "        text-align: right;\n",
       "    }\n",
       "</style>\n",
       "<table border=\"1\" class=\"dataframe\">\n",
       "  <thead>\n",
       "    <tr style=\"text-align: right;\">\n",
       "      <th></th>\n",
       "      <th>Country name</th>\n",
       "    </tr>\n",
       "  </thead>\n",
       "  <tbody>\n",
       "    <tr>\n",
       "      <th>0</th>\n",
       "      <td>0</td>\n",
       "    </tr>\n",
       "    <tr>\n",
       "      <th>1</th>\n",
       "      <td>0</td>\n",
       "    </tr>\n",
       "    <tr>\n",
       "      <th>2</th>\n",
       "      <td>0</td>\n",
       "    </tr>\n",
       "    <tr>\n",
       "      <th>3</th>\n",
       "      <td>0</td>\n",
       "    </tr>\n",
       "    <tr>\n",
       "      <th>4</th>\n",
       "      <td>0</td>\n",
       "    </tr>\n",
       "    <tr>\n",
       "      <th>5</th>\n",
       "      <td>0</td>\n",
       "    </tr>\n",
       "    <tr>\n",
       "      <th>6</th>\n",
       "      <td>0</td>\n",
       "    </tr>\n",
       "    <tr>\n",
       "      <th>7</th>\n",
       "      <td>0</td>\n",
       "    </tr>\n",
       "    <tr>\n",
       "      <th>8</th>\n",
       "      <td>0</td>\n",
       "    </tr>\n",
       "    <tr>\n",
       "      <th>9</th>\n",
       "      <td>0</td>\n",
       "    </tr>\n",
       "    <tr>\n",
       "      <th>10</th>\n",
       "      <td>0</td>\n",
       "    </tr>\n",
       "    <tr>\n",
       "      <th>11</th>\n",
       "      <td>0</td>\n",
       "    </tr>\n",
       "    <tr>\n",
       "      <th>12</th>\n",
       "      <td>1</td>\n",
       "    </tr>\n",
       "    <tr>\n",
       "      <th>13</th>\n",
       "      <td>1</td>\n",
       "    </tr>\n",
       "    <tr>\n",
       "      <th>14</th>\n",
       "      <td>1</td>\n",
       "    </tr>\n",
       "    <tr>\n",
       "      <th>15</th>\n",
       "      <td>1</td>\n",
       "    </tr>\n",
       "    <tr>\n",
       "      <th>16</th>\n",
       "      <td>1</td>\n",
       "    </tr>\n",
       "    <tr>\n",
       "      <th>17</th>\n",
       "      <td>1</td>\n",
       "    </tr>\n",
       "    <tr>\n",
       "      <th>18</th>\n",
       "      <td>1</td>\n",
       "    </tr>\n",
       "    <tr>\n",
       "      <th>19</th>\n",
       "      <td>1</td>\n",
       "    </tr>\n",
       "  </tbody>\n",
       "</table>\n",
       "</div>"
      ],
      "text/plain": [
       "    Country name\n",
       "0              0\n",
       "1              0\n",
       "2              0\n",
       "3              0\n",
       "4              0\n",
       "5              0\n",
       "6              0\n",
       "7              0\n",
       "8              0\n",
       "9              0\n",
       "10             0\n",
       "11             0\n",
       "12             1\n",
       "13             1\n",
       "14             1\n",
       "15             1\n",
       "16             1\n",
       "17             1\n",
       "18             1\n",
       "19             1"
      ]
     },
     "execution_count": 94,
     "metadata": {},
     "output_type": "execute_result"
    }
   ],
   "source": [
    "y = encode_features(y)\n",
    "y.head(20)"
   ]
  },
  {
   "cell_type": "markdown",
   "id": "37ae3128",
   "metadata": {},
   "source": [
    "### 학습 데이터와 테스트 데이터 분리하기"
   ]
  },
  {
   "cell_type": "code",
   "execution_count": 82,
   "id": "774d8f24",
   "metadata": {},
   "outputs": [],
   "source": [
    "# 테스트 데이터 세트 : 20%\n",
    "from sklearn.model_selection import train_test_split\n",
    "\n",
    "X_train, X_test, y_train, y_test = train_test_split(X, y, test_size=0.2, random_state=0)"
   ]
  },
  {
   "cell_type": "code",
   "execution_count": 84,
   "id": "a216049a",
   "metadata": {},
   "outputs": [
    {
     "data": {
      "text/html": [
       "<div>\n",
       "<style scoped>\n",
       "    .dataframe tbody tr th:only-of-type {\n",
       "        vertical-align: middle;\n",
       "    }\n",
       "\n",
       "    .dataframe tbody tr th {\n",
       "        vertical-align: top;\n",
       "    }\n",
       "\n",
       "    .dataframe thead th {\n",
       "        text-align: right;\n",
       "    }\n",
       "</style>\n",
       "<table border=\"1\" class=\"dataframe\">\n",
       "  <thead>\n",
       "    <tr style=\"text-align: right;\">\n",
       "      <th></th>\n",
       "      <th>year</th>\n",
       "      <th>Life Ladder</th>\n",
       "      <th>Log GDP per capita</th>\n",
       "      <th>Social support</th>\n",
       "      <th>Healthy life expectancy at birth</th>\n",
       "      <th>Freedom to make life choices</th>\n",
       "      <th>Generosity</th>\n",
       "      <th>Perceptions of corruption</th>\n",
       "      <th>Positive affect</th>\n",
       "      <th>Negative affect</th>\n",
       "    </tr>\n",
       "  </thead>\n",
       "  <tbody>\n",
       "    <tr>\n",
       "      <th>1031</th>\n",
       "      <td>2013</td>\n",
       "      <td>3.816</td>\n",
       "      <td>7.334</td>\n",
       "      <td>0.673</td>\n",
       "      <td>57.06</td>\n",
       "      <td>0.480</td>\n",
       "      <td>-0.019</td>\n",
       "      <td>0.868</td>\n",
       "      <td>0.734</td>\n",
       "      <td>0.241</td>\n",
       "    </tr>\n",
       "    <tr>\n",
       "      <th>299</th>\n",
       "      <td>2012</td>\n",
       "      <td>7.415</td>\n",
       "      <td>10.744</td>\n",
       "      <td>0.948</td>\n",
       "      <td>72.52</td>\n",
       "      <td>0.918</td>\n",
       "      <td>0.290</td>\n",
       "      <td>0.466</td>\n",
       "      <td>0.857</td>\n",
       "      <td>0.229</td>\n",
       "    </tr>\n",
       "    <tr>\n",
       "      <th>1227</th>\n",
       "      <td>2008</td>\n",
       "      <td>7.381</td>\n",
       "      <td>10.528</td>\n",
       "      <td>0.944</td>\n",
       "      <td>71.60</td>\n",
       "      <td>0.893</td>\n",
       "      <td>0.298</td>\n",
       "      <td>0.334</td>\n",
       "      <td>0.854</td>\n",
       "      <td>0.232</td>\n",
       "    </tr>\n",
       "  </tbody>\n",
       "</table>\n",
       "</div>"
      ],
      "text/plain": [
       "      year  Life Ladder  Log GDP per capita  Social support  \\\n",
       "1031  2013        3.816               7.334           0.673   \n",
       "299   2012        7.415              10.744           0.948   \n",
       "1227  2008        7.381              10.528           0.944   \n",
       "\n",
       "      Healthy life expectancy at birth  Freedom to make life choices  \\\n",
       "1031                             57.06                         0.480   \n",
       "299                              72.52                         0.918   \n",
       "1227                             71.60                         0.893   \n",
       "\n",
       "      Generosity  Perceptions of corruption  Positive affect  Negative affect  \n",
       "1031      -0.019                      0.868            0.734            0.241  \n",
       "299        0.290                      0.466            0.857            0.229  \n",
       "1227       0.298                      0.334            0.854            0.232  "
      ]
     },
     "execution_count": 84,
     "metadata": {},
     "output_type": "execute_result"
    }
   ],
   "source": [
    "X_train.head(3)"
   ]
  },
  {
   "cell_type": "code",
   "execution_count": 86,
   "id": "be1c0ffb",
   "metadata": {},
   "outputs": [
    {
     "data": {
      "text/html": [
       "<div>\n",
       "<style scoped>\n",
       "    .dataframe tbody tr th:only-of-type {\n",
       "        vertical-align: middle;\n",
       "    }\n",
       "\n",
       "    .dataframe tbody tr th {\n",
       "        vertical-align: top;\n",
       "    }\n",
       "\n",
       "    .dataframe thead th {\n",
       "        text-align: right;\n",
       "    }\n",
       "</style>\n",
       "<table border=\"1\" class=\"dataframe\">\n",
       "  <thead>\n",
       "    <tr style=\"text-align: right;\">\n",
       "      <th></th>\n",
       "      <th>Country name</th>\n",
       "    </tr>\n",
       "  </thead>\n",
       "  <tbody>\n",
       "    <tr>\n",
       "      <th>1031</th>\n",
       "      <td>87</td>\n",
       "    </tr>\n",
       "    <tr>\n",
       "      <th>299</th>\n",
       "      <td>25</td>\n",
       "    </tr>\n",
       "    <tr>\n",
       "      <th>1227</th>\n",
       "      <td>105</td>\n",
       "    </tr>\n",
       "  </tbody>\n",
       "</table>\n",
       "</div>"
      ],
      "text/plain": [
       "      Country name\n",
       "1031            87\n",
       "299             25\n",
       "1227           105"
      ]
     },
     "execution_count": 86,
     "metadata": {},
     "output_type": "execute_result"
    }
   ],
   "source": [
    "y_train.head(3)"
   ]
  },
  {
   "cell_type": "markdown",
   "id": "5e262aec",
   "metadata": {},
   "source": [
    "### 의사결정 트리 알고리즘 이용해서 학습/예측 수행하기 (학습/테스트 데이터 분리할 때 random_state 설정했는데, 의사결정 분류기에도 동일하게 적용해야 하는지?)"
   ]
  },
  {
   "cell_type": "code",
   "execution_count": 87,
   "id": "c9da6011",
   "metadata": {},
   "outputs": [
    {
     "data": {
      "text/plain": [
       "DecisionTreeClassifier(random_state=0)"
      ]
     },
     "execution_count": 87,
     "metadata": {},
     "output_type": "execute_result"
    }
   ],
   "source": [
    "from sklearn.tree import DecisionTreeClassifier\n",
    "\n",
    "# 객체 생성\n",
    "dt_clf = DecisionTreeClassifier(random_state=0)\n",
    "\n",
    "# 학습 수행\n",
    "dt_clf.fit(X_train, y_train)"
   ]
  },
  {
   "cell_type": "markdown",
   "id": "f3f3f965",
   "metadata": {},
   "source": [
    "### 테스트 데이터로 예측 수행"
   ]
  },
  {
   "cell_type": "code",
   "execution_count": 88,
   "id": "2f0a876d",
   "metadata": {},
   "outputs": [
    {
     "data": {
      "text/plain": [
       "array([  1, 128, 122,  16,  28,  11, 124,  37, 125,  37,  49, 130,   6,\n",
       "       119, 111,  23,  23,  46,  89, 137,  71,   6,  94,   6,   1, 111,\n",
       "        54,  70, 160, 152, 155, 122, 145, 145,  12,  38,  22, 104,  30,\n",
       "       100, 157, 103, 105,  13,  27,  80,  83,  75, 110,  64,  51,  73,\n",
       "       129, 154, 165, 126, 125,  61, 149, 165,   2, 110,  13,   7,  85,\n",
       "        65, 126, 134,  38, 163, 114, 165,  63,  16,  42,  99,  25,  55,\n",
       "        24,  26,   4, 146,  34,  92,  44, 165, 148, 162,  24, 164,  74,\n",
       "        21,   6,  77,   0,   2,   0, 126,   6,  73,  11,  53,  97,  88,\n",
       "        55, 121,  56, 110, 107,   4,  88,  71,  49, 100, 110,  34,  64,\n",
       "        43,  56,   9, 156,  83,  62,  46, 114, 119, 161,  34,  21, 153,\n",
       "        97,  99, 103,  74,   2, 142, 133,  19, 116, 157, 149,  42,  92,\n",
       "       160, 144,  35, 156,  48,  81, 108, 125, 146, 109,  30, 148, 116,\n",
       "       111,  46,  19, 100,  38, 134,  55, 106, 162,  27,  33,  96,  92,\n",
       "       118,  80,  18,  81,  96, 111, 106, 131, 126,  61, 145,  41, 117,\n",
       "        95, 158, 154, 109, 162,  21,  77,  76, 142,  39, 157,  63, 155,\n",
       "       130,  98,  88,  79,   5,  75, 149,  18,  78,   8,  53,  32,  93,\n",
       "        55, 155,  96,  41, 120, 165,  68,  29,  80,  55,  44,  64, 143,\n",
       "       106, 123,  44,  45, 135,  99, 135,  55,   6, 126,  17,   2,  58,\n",
       "       155,  43,  78,  47,   6,  84, 126, 130,  24,  65, 150, 135,  66,\n",
       "        98,  87,  29, 162, 129,  16,  70,  13,  46,  67,  19, 141, 126,\n",
       "        45,  72, 165,  12, 155, 100,  53, 137,  79,   5,  11, 145,  17,\n",
       "        83, 106, 111,  59,  47, 155,  42,  39,  52,  71,  78,  76,  18,\n",
       "        39,   4,  26,  48,  85,  64,  78,  11, 120, 126, 124,  91,   0,\n",
       "        96,  51,  73,  95, 127,   7, 134, 164,  69,  24,  38,  11,  78,\n",
       "        11,  91, 116, 127, 152,  32,  86,  47, 151, 124,  38,  96, 142,\n",
       "        96, 161, 117,  20,  33,   0, 118,   9, 126,  23,  42,  45,   7,\n",
       "        81, 101, 120,  83,  39,  27, 147, 113,  69,  33, 118,  10,  54,\n",
       "       165,   4,   5, 120,  67,  32,  55, 158,  21,  25,   5,  11,  68,\n",
       "        25,  30,  85,  69,  61,  12, 155,  27,  58,  44,  44,  56,  33,\n",
       "         5,  16,  46,  61, 127, 110, 159,  79,  39, 114,  53,   1,  21])"
      ]
     },
     "execution_count": 88,
     "metadata": {},
     "output_type": "execute_result"
    }
   ],
   "source": [
    "pred = dt_clf.predict(X_test)\n",
    "pred"
   ]
  },
  {
   "cell_type": "code",
   "execution_count": 92,
   "id": "276f88d4",
   "metadata": {},
   "outputs": [
    {
     "name": "stdout",
     "output_type": "stream",
     "text": [
      "[  1 128 122  16  28  11 124  37 125  37]\n",
      "      Country name\n",
      "18               1\n",
      "1520           128\n",
      "1437           122\n",
      "187             16\n",
      "333             28\n",
      "135             11\n",
      "1465           124\n",
      "1581           135\n",
      "1476           125\n",
      "434             37\n"
     ]
    }
   ],
   "source": [
    "# 실제 테스트 데이터 레이블 값과 예측한 값 비교 >> 헐,, 출력 결과물이 비교하기 어려운데,, 이럴 경우 어떻게 하는지,,?\n",
    "print(pred[:10])\n",
    "print(y_test[:10])"
   ]
  },
  {
   "cell_type": "markdown",
   "id": "990e23b9",
   "metadata": {},
   "source": [
    "### 예측 정확도 평가"
   ]
  },
  {
   "cell_type": "code",
   "execution_count": 93,
   "id": "585d0e1d",
   "metadata": {},
   "outputs": [
    {
     "name": "stdout",
     "output_type": "stream",
     "text": [
      "예측 정확도: 0.6051\n"
     ]
    }
   ],
   "source": [
    "from sklearn.metrics import accuracy_score\n",
    "\n",
    "print('예측 정확도: {0:.4f}'.format(accuracy_score(y_test,pred)))"
   ]
  },
  {
   "cell_type": "markdown",
   "id": "e09ac078",
   "metadata": {},
   "source": [
    "##### \"정확도 : 예측 결과 실제 레이블 값과 얼마나 정확하게 맞는지 평가하는 지표\" 인데 굉장히 낮게 나옴.. 이건 무슨 의미인지,,,,ㅠ\n",
    "##### 데이터가 잘못 됐다는 의미인지, 아니면 다른 모델로 예측 정확도를 평가해야 한다는 의미인지,,,?"
   ]
  },
  {
   "cell_type": "code",
   "execution_count": null,
   "id": "3480d373",
   "metadata": {},
   "outputs": [],
   "source": []
  },
  {
   "cell_type": "code",
   "execution_count": null,
   "id": "1fe6eda5",
   "metadata": {},
   "outputs": [],
   "source": []
  }
 ],
 "metadata": {
  "kernelspec": {
   "display_name": "Python 3",
   "language": "python",
   "name": "python3"
  },
  "language_info": {
   "codemirror_mode": {
    "name": "ipython",
    "version": 3
   },
   "file_extension": ".py",
   "mimetype": "text/x-python",
   "name": "python",
   "nbconvert_exporter": "python",
   "pygments_lexer": "ipython3",
   "version": "3.8.8"
  }
 },
 "nbformat": 4,
 "nbformat_minor": 5
}
