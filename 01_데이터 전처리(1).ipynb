{
 "cells": [
  {
   "cell_type": "code",
   "execution_count": 541,
   "id": "1d1d8f55",
   "metadata": {},
   "outputs": [],
   "source": [
    "# 기본 모듈 임포트\n",
    "from IPython.display import display\n",
    "import numpy as np\n",
    "import matplotlib.pyplot as plt\n",
    "%matplotlib inline\n",
    "import pandas as pd\n",
    "import mglearn\n",
    "import seaborn as sns"
   ]
  },
  {
   "cell_type": "code",
   "execution_count": 542,
   "id": "b5aa266f",
   "metadata": {},
   "outputs": [],
   "source": [
    "# 데이터 불러오기\n",
    "stroke = pd.read_csv(\"./data/stroke.csv\")"
   ]
  },
  {
   "cell_type": "code",
   "execution_count": 543,
   "id": "044c3ab0",
   "metadata": {},
   "outputs": [
    {
     "name": "stdout",
     "output_type": "stream",
     "text": [
      "stroke 데이터의 변수 확인: \n",
      "Index(['id', 'gender', 'age', 'hypertension', 'heart_disease', 'ever_married',\n",
      "       'work_type', 'Residence_type', 'avg_glucose_level', 'bmi',\n",
      "       'smoking_status', 'stroke'],\n",
      "      dtype='object')\n"
     ]
    }
   ],
   "source": [
    "# 변수 이름 확인\n",
    "print(\"stroke 데이터의 변수 확인: \\n{}\".format(stroke.keys()))"
   ]
  },
  {
   "cell_type": "code",
   "execution_count": 544,
   "id": "04e0c422",
   "metadata": {},
   "outputs": [
    {
     "name": "stdout",
     "output_type": "stream",
     "text": [
      "뇌졸중 데이터의 형태 :(5110, 12)\n"
     ]
    }
   ],
   "source": [
    "print(\"뇌졸중 데이터의 형태 :{}\".format(stroke.shape)) # 5110개의 데이터 포인트를 가지고 있고 특성은 12개"
   ]
  },
  {
   "cell_type": "code",
   "execution_count": 545,
   "id": "7ef640d7",
   "metadata": {},
   "outputs": [
    {
     "name": "stdout",
     "output_type": "stream",
     "text": [
      "클래스 별 샘플개수:\n",
      "{'not stroke': 4861, 'stroke': 249}\n"
     ]
    }
   ],
   "source": [
    "print(\"클래스 별 샘플개수:\\n{}\".format(\n",
    "    {n: v for n, v in zip(['not stroke', 'stroke'], np.bincount(stroke[\"stroke\"]))})) # 5110개의 데이터 포인터 중 4861개는 뇌졸중이 아닌 정상이고, 249는 뇌졸중환자입니다."
   ]
  },
  {
   "cell_type": "code",
   "execution_count": 546,
   "id": "a77442b7",
   "metadata": {},
   "outputs": [
    {
     "data": {
      "text/plain": [
       "0    4861\n",
       "1     249\n",
       "Name: stroke, dtype: int64"
      ]
     },
     "execution_count": 546,
     "metadata": {},
     "output_type": "execute_result"
    }
   ],
   "source": [
    "stroke[\"stroke\"].value_counts()"
   ]
  },
  {
   "cell_type": "code",
   "execution_count": 547,
   "id": "2b1f97d0",
   "metadata": {},
   "outputs": [
    {
     "name": "stdout",
     "output_type": "stream",
     "text": [
      "<class 'pandas.core.frame.DataFrame'>\n",
      "RangeIndex: 5110 entries, 0 to 5109\n",
      "Data columns (total 12 columns):\n",
      " #   Column             Non-Null Count  Dtype  \n",
      "---  ------             --------------  -----  \n",
      " 0   id                 5110 non-null   int64  \n",
      " 1   gender             5110 non-null   object \n",
      " 2   age                5110 non-null   float64\n",
      " 3   hypertension       5110 non-null   int64  \n",
      " 4   heart_disease      5110 non-null   int64  \n",
      " 5   ever_married       5110 non-null   object \n",
      " 6   work_type          5110 non-null   object \n",
      " 7   Residence_type     5110 non-null   object \n",
      " 8   avg_glucose_level  5110 non-null   float64\n",
      " 9   bmi                4909 non-null   float64\n",
      " 10  smoking_status     5110 non-null   object \n",
      " 11  stroke             5110 non-null   int64  \n",
      "dtypes: float64(3), int64(4), object(5)\n",
      "memory usage: 479.2+ KB\n"
     ]
    }
   ],
   "source": [
    "stroke.info()"
   ]
  },
  {
   "cell_type": "code",
   "execution_count": 548,
   "id": "be2b85be",
   "metadata": {},
   "outputs": [],
   "source": [
    "# id는 삭제\n",
    "stroke.drop(\"id\", axis=1, inplace=True)"
   ]
  },
  {
   "cell_type": "code",
   "execution_count": 549,
   "id": "ff896309",
   "metadata": {},
   "outputs": [
    {
     "data": {
      "text/plain": [
       "Female    2994\n",
       "Male      2115\n",
       "Other        1\n",
       "Name: gender, dtype: int64"
      ]
     },
     "execution_count": 549,
     "metadata": {},
     "output_type": "execute_result"
    }
   ],
   "source": [
    "stroke[\"gender\"].value_counts()\n",
    "# Other은 삭제"
   ]
  },
  {
   "cell_type": "code",
   "execution_count": 550,
   "id": "f5d0a5f4",
   "metadata": {},
   "outputs": [],
   "source": [
    "\n",
    "stroke=stroke[stroke[\"gender\"]!=\"Other\"] # gender에서 Other인 칼럼은 제외하고 할당한다."
   ]
  },
  {
   "cell_type": "code",
   "execution_count": 551,
   "id": "946d65ed",
   "metadata": {},
   "outputs": [],
   "source": [
    "# gender는 2개의 범주로 나뉘어져 있으므로 LabelEncoder()\n",
    "from sklearn.preprocessing import LabelEncoder\n",
    "Label_Encoder = LabelEncoder()\n",
    "Label_Encoder.fit(stroke[\"gender\"])\n",
    "stroke[\"gender\"]=Label_Encoder.transform(stroke[\"gender\"])"
   ]
  },
  {
   "cell_type": "code",
   "execution_count": 552,
   "id": "c826d4f1",
   "metadata": {},
   "outputs": [
    {
     "data": {
      "text/plain": [
       "<bound method IndexOpsMixin.value_counts of 0       1\n",
       "1       0\n",
       "2       1\n",
       "3       0\n",
       "4       0\n",
       "       ..\n",
       "5105    0\n",
       "5106    0\n",
       "5107    0\n",
       "5108    1\n",
       "5109    0\n",
       "Name: gender, Length: 5109, dtype: int64>"
      ]
     },
     "execution_count": 552,
     "metadata": {},
     "output_type": "execute_result"
    }
   ],
   "source": [
    "stroke[\"gender\"].value_counts"
   ]
  },
  {
   "cell_type": "code",
   "execution_count": 553,
   "id": "0a876a0d",
   "metadata": {},
   "outputs": [
    {
     "data": {
      "image/png": "[encoded data removed]",
      "text/plain": [
       "<Figure size 360x360 with 1 Axes>"
      ]
     },
     "metadata": {
      "needs_background": "light"
     },
     "output_type": "display_data"
    }
   ],
   "source": [
    "# age 칼럼의 분포를 살펴 보도록한다. \n",
    "sns.displot(stroke['age'],bins=20)\n",
    "plt.show() # 분포의 치우침이 없이 대체로 양 끝구간의 분포가 크기는 하지만 이정도면 괜찮은 분포라고 생각하여 그대로 쓰기로 하였다."
   ]
  },
  {
   "cell_type": "code",
   "execution_count": 554,
   "id": "5c21d788",
   "metadata": {},
   "outputs": [
    {
     "data": {
      "text/plain": [
       "0    4611\n",
       "1     498\n",
       "Name: hypertension, dtype: int64"
      ]
     },
     "execution_count": 554,
     "metadata": {},
     "output_type": "execute_result"
    }
   ],
   "source": [
    "# hypertension 칼럼은 범주화 된 것 같다.(2개)\n",
    "stroke[\"hypertension\"].value_counts()"
   ]
  },
  {
   "cell_type": "code",
   "execution_count": 555,
   "id": "ec694b06",
   "metadata": {},
   "outputs": [
    {
     "data": {
      "text/plain": [
       "Yes    3353\n",
       "No     1756\n",
       "Name: ever_married, dtype: int64"
      ]
     },
     "execution_count": 555,
     "metadata": {},
     "output_type": "execute_result"
    }
   ],
   "source": [
    "# ever_married 칼럼을 살펴보자. Yes, No 두가지 범주로 나누어져 있기 때문에 LabelEncoding()을 진행해 주도록한다.\n",
    "stroke[\"ever_married\"].value_counts()"
   ]
  },
  {
   "cell_type": "code",
   "execution_count": 556,
   "id": "510302c5",
   "metadata": {},
   "outputs": [],
   "source": [
    "# gender는 2개의 범주로 나뉘어져 있으므로 LabelEncoder()\n",
    "from sklearn.preprocessing import LabelEncoder\n",
    "Label_Encoder = LabelEncoder()\n",
    "Label_Encoder.fit(stroke[\"ever_married\"])\n",
    "stroke[\"ever_married\"]=Label_Encoder.transform(stroke[\"ever_married\"])"
   ]
  },
  {
   "cell_type": "code",
   "execution_count": 557,
   "id": "1e84ece1",
   "metadata": {},
   "outputs": [
    {
     "data": {
      "text/plain": [
       "1    3353\n",
       "0    1756\n",
       "Name: ever_married, dtype: int64"
      ]
     },
     "execution_count": 557,
     "metadata": {},
     "output_type": "execute_result"
    }
   ],
   "source": [
    "stroke[\"ever_married\"].value_counts()"
   ]
  },
  {
   "cell_type": "code",
   "execution_count": 558,
   "id": "689a29c5",
   "metadata": {},
   "outputs": [
    {
     "data": {
      "text/plain": [
       "Private          2924\n",
       "Self-employed     819\n",
       "children          687\n",
       "Govt_job          657\n",
       "Never_worked       22\n",
       "Name: work_type, dtype: int64"
      ]
     },
     "execution_count": 558,
     "metadata": {},
     "output_type": "execute_result"
    }
   ],
   "source": [
    "# work_type 칼럼은 5개의 범주를 갖고 있음을 알 수 있다. OneHotEncoding을 해주도록 한다.\n",
    "stroke[\"work_type\"].value_counts()"
   ]
  },
  {
   "cell_type": "code",
   "execution_count": 559,
   "id": "37228ad5",
   "metadata": {},
   "outputs": [],
   "source": [
    "stroke = pd.concat([stroke,pd.get_dummies(stroke[\"work_type\"])], axis =1 )"
   ]
  },
  {
   "cell_type": "code",
   "execution_count": 560,
   "id": "c1712c49",
   "metadata": {},
   "outputs": [],
   "source": [
    "# work_type 칼럼은 삭제\n",
    "stroke.drop(\"work_type\",axis=1, inplace=True)"
   ]
  },
  {
   "cell_type": "code",
   "execution_count": 561,
   "id": "6bc9773d",
   "metadata": {},
   "outputs": [
    {
     "data": {
      "text/html": [
       "<div>\n",
       "<style scoped>\n",
       "    .dataframe tbody tr th:only-of-type {\n",
       "        vertical-align: middle;\n",
       "    }\n",
       "\n",
       "    .dataframe tbody tr th {\n",
       "        vertical-align: top;\n",
       "    }\n",
       "\n",
       "    .dataframe thead th {\n",
       "        text-align: right;\n",
       "    }\n",
       "</style>\n",
       "<table border=\"1\" class=\"dataframe\">\n",
       "  <thead>\n",
       "    <tr style=\"text-align: right;\">\n",
       "      <th></th>\n",
       "      <th>gender</th>\n",
       "      <th>age</th>\n",
       "      <th>hypertension</th>\n",
       "      <th>heart_disease</th>\n",
       "      <th>ever_married</th>\n",
       "      <th>Residence_type</th>\n",
       "      <th>avg_glucose_level</th>\n",
       "      <th>bmi</th>\n",
       "      <th>smoking_status</th>\n",
       "      <th>stroke</th>\n",
       "      <th>Govt_job</th>\n",
       "      <th>Never_worked</th>\n",
       "      <th>Private</th>\n",
       "      <th>Self-employed</th>\n",
       "      <th>children</th>\n",
       "    </tr>\n",
       "  </thead>\n",
       "  <tbody>\n",
       "    <tr>\n",
       "      <th>0</th>\n",
       "      <td>1</td>\n",
       "      <td>67.0</td>\n",
       "      <td>0</td>\n",
       "      <td>1</td>\n",
       "      <td>1</td>\n",
       "      <td>Urban</td>\n",
       "      <td>228.69</td>\n",
       "      <td>36.6</td>\n",
       "      <td>formerly smoked</td>\n",
       "      <td>1</td>\n",
       "      <td>0</td>\n",
       "      <td>0</td>\n",
       "      <td>1</td>\n",
       "      <td>0</td>\n",
       "      <td>0</td>\n",
       "    </tr>\n",
       "    <tr>\n",
       "      <th>1</th>\n",
       "      <td>0</td>\n",
       "      <td>61.0</td>\n",
       "      <td>0</td>\n",
       "      <td>0</td>\n",
       "      <td>1</td>\n",
       "      <td>Rural</td>\n",
       "      <td>202.21</td>\n",
       "      <td>NaN</td>\n",
       "      <td>never smoked</td>\n",
       "      <td>1</td>\n",
       "      <td>0</td>\n",
       "      <td>0</td>\n",
       "      <td>0</td>\n",
       "      <td>1</td>\n",
       "      <td>0</td>\n",
       "    </tr>\n",
       "    <tr>\n",
       "      <th>2</th>\n",
       "      <td>1</td>\n",
       "      <td>80.0</td>\n",
       "      <td>0</td>\n",
       "      <td>1</td>\n",
       "      <td>1</td>\n",
       "      <td>Rural</td>\n",
       "      <td>105.92</td>\n",
       "      <td>32.5</td>\n",
       "      <td>never smoked</td>\n",
       "      <td>1</td>\n",
       "      <td>0</td>\n",
       "      <td>0</td>\n",
       "      <td>1</td>\n",
       "      <td>0</td>\n",
       "      <td>0</td>\n",
       "    </tr>\n",
       "    <tr>\n",
       "      <th>3</th>\n",
       "      <td>0</td>\n",
       "      <td>49.0</td>\n",
       "      <td>0</td>\n",
       "      <td>0</td>\n",
       "      <td>1</td>\n",
       "      <td>Urban</td>\n",
       "      <td>171.23</td>\n",
       "      <td>34.4</td>\n",
       "      <td>smokes</td>\n",
       "      <td>1</td>\n",
       "      <td>0</td>\n",
       "      <td>0</td>\n",
       "      <td>1</td>\n",
       "      <td>0</td>\n",
       "      <td>0</td>\n",
       "    </tr>\n",
       "    <tr>\n",
       "      <th>4</th>\n",
       "      <td>0</td>\n",
       "      <td>79.0</td>\n",
       "      <td>1</td>\n",
       "      <td>0</td>\n",
       "      <td>1</td>\n",
       "      <td>Rural</td>\n",
       "      <td>174.12</td>\n",
       "      <td>24.0</td>\n",
       "      <td>never smoked</td>\n",
       "      <td>1</td>\n",
       "      <td>0</td>\n",
       "      <td>0</td>\n",
       "      <td>0</td>\n",
       "      <td>1</td>\n",
       "      <td>0</td>\n",
       "    </tr>\n",
       "    <tr>\n",
       "      <th>...</th>\n",
       "      <td>...</td>\n",
       "      <td>...</td>\n",
       "      <td>...</td>\n",
       "      <td>...</td>\n",
       "      <td>...</td>\n",
       "      <td>...</td>\n",
       "      <td>...</td>\n",
       "      <td>...</td>\n",
       "      <td>...</td>\n",
       "      <td>...</td>\n",
       "      <td>...</td>\n",
       "      <td>...</td>\n",
       "      <td>...</td>\n",
       "      <td>...</td>\n",
       "      <td>...</td>\n",
       "    </tr>\n",
       "    <tr>\n",
       "      <th>5105</th>\n",
       "      <td>0</td>\n",
       "      <td>80.0</td>\n",
       "      <td>1</td>\n",
       "      <td>0</td>\n",
       "      <td>1</td>\n",
       "      <td>Urban</td>\n",
       "      <td>83.75</td>\n",
       "      <td>NaN</td>\n",
       "      <td>never smoked</td>\n",
       "      <td>0</td>\n",
       "      <td>0</td>\n",
       "      <td>0</td>\n",
       "      <td>1</td>\n",
       "      <td>0</td>\n",
       "      <td>0</td>\n",
       "    </tr>\n",
       "    <tr>\n",
       "      <th>5106</th>\n",
       "      <td>0</td>\n",
       "      <td>81.0</td>\n",
       "      <td>0</td>\n",
       "      <td>0</td>\n",
       "      <td>1</td>\n",
       "      <td>Urban</td>\n",
       "      <td>125.20</td>\n",
       "      <td>40.0</td>\n",
       "      <td>never smoked</td>\n",
       "      <td>0</td>\n",
       "      <td>0</td>\n",
       "      <td>0</td>\n",
       "      <td>0</td>\n",
       "      <td>1</td>\n",
       "      <td>0</td>\n",
       "    </tr>\n",
       "    <tr>\n",
       "      <th>5107</th>\n",
       "      <td>0</td>\n",
       "      <td>35.0</td>\n",
       "      <td>0</td>\n",
       "      <td>0</td>\n",
       "      <td>1</td>\n",
       "      <td>Rural</td>\n",
       "      <td>82.99</td>\n",
       "      <td>30.6</td>\n",
       "      <td>never smoked</td>\n",
       "      <td>0</td>\n",
       "      <td>0</td>\n",
       "      <td>0</td>\n",
       "      <td>0</td>\n",
       "      <td>1</td>\n",
       "      <td>0</td>\n",
       "    </tr>\n",
       "    <tr>\n",
       "      <th>5108</th>\n",
       "      <td>1</td>\n",
       "      <td>51.0</td>\n",
       "      <td>0</td>\n",
       "      <td>0</td>\n",
       "      <td>1</td>\n",
       "      <td>Rural</td>\n",
       "      <td>166.29</td>\n",
       "      <td>25.6</td>\n",
       "      <td>formerly smoked</td>\n",
       "      <td>0</td>\n",
       "      <td>0</td>\n",
       "      <td>0</td>\n",
       "      <td>1</td>\n",
       "      <td>0</td>\n",
       "      <td>0</td>\n",
       "    </tr>\n",
       "    <tr>\n",
       "      <th>5109</th>\n",
       "      <td>0</td>\n",
       "      <td>44.0</td>\n",
       "      <td>0</td>\n",
       "      <td>0</td>\n",
       "      <td>1</td>\n",
       "      <td>Urban</td>\n",
       "      <td>85.28</td>\n",
       "      <td>26.2</td>\n",
       "      <td>Unknown</td>\n",
       "      <td>0</td>\n",
       "      <td>1</td>\n",
       "      <td>0</td>\n",
       "      <td>0</td>\n",
       "      <td>0</td>\n",
       "      <td>0</td>\n",
       "    </tr>\n",
       "  </tbody>\n",
       "</table>\n",
       "<p>5109 rows × 15 columns</p>\n",
       "</div>"
      ],
      "text/plain": [
       "      gender   age  hypertension  heart_disease  ever_married Residence_type  \\\n",
       "0          1  67.0             0              1             1          Urban   \n",
       "1          0  61.0             0              0             1          Rural   \n",
       "2          1  80.0             0              1             1          Rural   \n",
       "3          0  49.0             0              0             1          Urban   \n",
       "4          0  79.0             1              0             1          Rural   \n",
       "...      ...   ...           ...            ...           ...            ...   \n",
       "5105       0  80.0             1              0             1          Urban   \n",
       "5106       0  81.0             0              0             1          Urban   \n",
       "5107       0  35.0             0              0             1          Rural   \n",
       "5108       1  51.0             0              0             1          Rural   \n",
       "5109       0  44.0             0              0             1          Urban   \n",
       "\n",
       "      avg_glucose_level   bmi   smoking_status  stroke  Govt_job  \\\n",
       "0                228.69  36.6  formerly smoked       1         0   \n",
       "1                202.21   NaN     never smoked       1         0   \n",
       "2                105.92  32.5     never smoked       1         0   \n",
       "3                171.23  34.4           smokes       1         0   \n",
       "4                174.12  24.0     never smoked       1         0   \n",
       "...                 ...   ...              ...     ...       ...   \n",
       "5105              83.75   NaN     never smoked       0         0   \n",
       "5106             125.20  40.0     never smoked       0         0   \n",
       "5107              82.99  30.6     never smoked       0         0   \n",
       "5108             166.29  25.6  formerly smoked       0         0   \n",
       "5109              85.28  26.2          Unknown       0         1   \n",
       "\n",
       "      Never_worked  Private  Self-employed  children  \n",
       "0                0        1              0         0  \n",
       "1                0        0              1         0  \n",
       "2                0        1              0         0  \n",
       "3                0        1              0         0  \n",
       "4                0        0              1         0  \n",
       "...            ...      ...            ...       ...  \n",
       "5105             0        1              0         0  \n",
       "5106             0        0              1         0  \n",
       "5107             0        0              1         0  \n",
       "5108             0        1              0         0  \n",
       "5109             0        0              0         0  \n",
       "\n",
       "[5109 rows x 15 columns]"
      ]
     },
     "execution_count": 561,
     "metadata": {},
     "output_type": "execute_result"
    }
   ],
   "source": [
    "stroke"
   ]
  },
  {
   "cell_type": "code",
   "execution_count": 562,
   "id": "9b26290e",
   "metadata": {},
   "outputs": [],
   "source": [
    "# Residence_type\n",
    "stroke[\"Residence_type\"].value_counts()\n",
    "\n",
    "from sklearn.preprocessing import LabelEncoder\n",
    "Label_Encoder = LabelEncoder()\n",
    "Label_Encoder.fit(stroke[\"Residence_type\"])\n",
    "stroke[\"Residence_type\"]=Label_Encoder.transform(stroke[\"Residence_type\"])"
   ]
  },
  {
   "cell_type": "code",
   "execution_count": 563,
   "id": "32731339",
   "metadata": {},
   "outputs": [
    {
     "data": {
      "image/png": "[encoded data removed]",
      "text/plain": [
       "<Figure size 360x360 with 1 Axes>"
      ]
     },
     "metadata": {
      "needs_background": "light"
     },
     "output_type": "display_data"
    }
   ],
   "source": [
    "# avg_glucose_level 칼럼은 왼쪽에 데이터가 치우쳐진 오른쪽으로 꼬리가 긴 분포이다. \n",
    "sns.displot(stroke['avg_glucose_level'],bins=20)\n",
    "plt.show()"
   ]
  },
  {
   "cell_type": "code",
   "execution_count": 564,
   "id": "4ff2b6d0",
   "metadata": {},
   "outputs": [
    {
     "data": {
      "image/png": "[encoded data removed]",
      "text/plain": [
       "<Figure size 360x360 with 1 Axes>"
      ]
     },
     "metadata": {
      "needs_background": "light"
     },
     "output_type": "display_data"
    }
   ],
   "source": [
    "# 로그변환을 해준 후의 히스토 그램은 봉우리가 두개 생기긴 했지만, 처음의 분포보다는 나아졌다는 것을 볼 수 있다.\n",
    "stroke['avg_glucose_level'] = np.log(stroke['avg_glucose_level'])\n",
    "sns.displot(stroke['avg_glucose_level'],bins=20)\n",
    "plt.show()"
   ]
  },
  {
   "cell_type": "code",
   "execution_count": 565,
   "id": "64a41856",
   "metadata": {},
   "outputs": [
    {
     "data": {
      "text/plain": [
       "201"
      ]
     },
     "execution_count": 565,
     "metadata": {},
     "output_type": "execute_result"
    }
   ],
   "source": [
    "# bmi 칼럼에는 결측치 처리를 해주어야 하는데, 평균으로 대체 해주도록 하겠다.\n",
    "stroke[\"bmi\"].isnull().sum()"
   ]
  },
  {
   "cell_type": "code",
   "execution_count": 566,
   "id": "11a3cfa4",
   "metadata": {},
   "outputs": [
    {
     "data": {
      "text/plain": [
       "0       36.6\n",
       "1        NaN\n",
       "2       32.5\n",
       "3       34.4\n",
       "4       24.0\n",
       "        ... \n",
       "5105     NaN\n",
       "5106    40.0\n",
       "5107    30.6\n",
       "5108    25.6\n",
       "5109    26.2\n",
       "Name: bmi, Length: 5109, dtype: float64"
      ]
     },
     "execution_count": 566,
     "metadata": {},
     "output_type": "execute_result"
    }
   ],
   "source": [
    "stroke[\"bmi\"]"
   ]
  },
  {
   "cell_type": "markdown",
   "id": "c1c6cc5e",
   "metadata": {},
   "source": [
    "**bmi에 결측치가 있는 행을 없앴을때와, 결측치를 평균으로 대체 했을 때 2가지 경우 각각 모델학습을 해보도록 하겠다**"
   ]
  },
  {
   "cell_type": "code",
   "execution_count": 567,
   "id": "ab06c314",
   "metadata": {},
   "outputs": [
    {
     "data": {
      "image/png": "[encoded data removed]",
      "text/plain": [
       "<Figure size 360x360 with 1 Axes>"
      ]
     },
     "metadata": {
      "needs_background": "light"
     },
     "output_type": "display_data"
    }
   ],
   "source": [
    "# 결측치에 대한 아무런 조치를 취하지 않고 히스토그램을 그렸을 때의 분포\n",
    "sns.displot(stroke['bmi'],bins=20)\n",
    "plt.show()"
   ]
  },
  {
   "cell_type": "code",
   "execution_count": 568,
   "id": "2dad4e0e",
   "metadata": {},
   "outputs": [],
   "source": [
    "# 결측치를 제외한 bmi의 평균으로 bmi의 결측치를 대체\n",
    "bmi_mean = 28.89\n",
    "stroke2=stroke.fillna(bmi_mean)"
   ]
  },
  {
   "cell_type": "code",
   "execution_count": 569,
   "id": "a979f4da",
   "metadata": {
    "scrolled": false
   },
   "outputs": [
    {
     "data": {
      "image/png": "[encoded data removed]",
      "text/plain": [
       "<Figure size 360x360 with 1 Axes>"
      ]
     },
     "metadata": {
      "needs_background": "light"
     },
     "output_type": "display_data"
    }
   ],
   "source": [
    "# 결측치를 제외하고 히스토그램을 그렸을 때의 분포 (위의 분포와 다른게 없어보인다.)\n",
    "sns.displot(stroke.dropna(axis=0)['bmi'],bins=20)\n",
    "plt.show()\n",
    "stroke1=stroke.dropna(axis=0)"
   ]
  },
  {
   "cell_type": "code",
   "execution_count": 570,
   "id": "41b35d53",
   "metadata": {},
   "outputs": [],
   "source": [
    "# smoking_status\n",
    "stroke[\"smoking_status\"].value_counts()\n",
    "# 캐글에 확인 결과 Unknown은 환자가 흡연에 대한 정보를 획득하지 못했다고 설명되어있는데, 이에 해당되는 레코드가 1544개로 전체 레코드 중 30%에 해당 되는 양이다. \n",
    "# 이런 경우 이 칼럼을 삭제하고 모델링을 진행해보도록 하겠다.\n",
    "stroke1 = stroke1.drop(\"smoking_status\", axis=1)\n",
    "stroke2 = stroke2.drop(\"smoking_status\", axis=1)"
   ]
  },
  {
   "cell_type": "code",
   "execution_count": 571,
   "id": "af016558",
   "metadata": {},
   "outputs": [],
   "source": [
    "# 훈련-테스트 셋으로 분리하기\n",
    "X1 = stroke1.drop(\"stroke\", axis=1)\n",
    "y1 = stroke1[\"stroke\"]\n",
    "\n",
    "from sklearn.model_selection import train_test_split\n",
    "X_train1, X_test1, y_train1, y_test1 = train_test_split(X1,y1,random_state=0)"
   ]
  },
  {
   "cell_type": "code",
   "execution_count": 572,
   "id": "e7094d85",
   "metadata": {},
   "outputs": [],
   "source": [
    "from sklearn.neighbors import KNeighborsClassifier\n",
    "knn = KNeighborsClassifier(n_neighbors=1)"
   ]
  },
  {
   "cell_type": "code",
   "execution_count": 573,
   "id": "1c6fc8fd",
   "metadata": {},
   "outputs": [
    {
     "data": {
      "text/plain": [
       "KNeighborsClassifier(n_neighbors=1)"
      ]
     },
     "execution_count": 573,
     "metadata": {},
     "output_type": "execute_result"
    }
   ],
   "source": [
    "knn.fit(X_train1, y_train1)"
   ]
  },
  {
   "cell_type": "code",
   "execution_count": 574,
   "id": "c690e743",
   "metadata": {},
   "outputs": [
    {
     "data": {
      "text/plain": [
       "0.928280358598207"
      ]
     },
     "execution_count": 574,
     "metadata": {},
     "output_type": "execute_result"
    }
   ],
   "source": [
    "y_pred1 = knn.predict(X_test1)\n",
    "np.mean(y_pred1 == y_test1)"
   ]
  },
  {
   "cell_type": "code",
   "execution_count": 575,
   "id": "0e302030",
   "metadata": {},
   "outputs": [],
   "source": [
    "# 훈련-테스트 셋으로 분리하기\n",
    "X2 = stroke2.drop(\"stroke\", axis=1)\n",
    "y2 = stroke2[\"stroke\"]\n",
    "\n",
    "from sklearn.model_selection import train_test_split\n",
    "X_train2, X_test2, y_train2, y_test2 = train_test_split(X2,y2,random_state=0)"
   ]
  },
  {
   "cell_type": "code",
   "execution_count": 576,
   "id": "f916c9cf",
   "metadata": {},
   "outputs": [],
   "source": [
    "from sklearn.neighbors import KNeighborsClassifier\n",
    "knn = KNeighborsClassifier(n_neighbors=1)"
   ]
  },
  {
   "cell_type": "code",
   "execution_count": 577,
   "id": "5ba04eb4",
   "metadata": {},
   "outputs": [
    {
     "data": {
      "text/plain": [
       "KNeighborsClassifier(n_neighbors=1)"
      ]
     },
     "execution_count": 577,
     "metadata": {},
     "output_type": "execute_result"
    }
   ],
   "source": [
    "knn.fit(X_train2, y_train2)"
   ]
  },
  {
   "cell_type": "code",
   "execution_count": 578,
   "id": "fde18dc4",
   "metadata": {},
   "outputs": [
    {
     "data": {
      "text/plain": [
       "0.9217527386541471"
      ]
     },
     "execution_count": 578,
     "metadata": {},
     "output_type": "execute_result"
    }
   ],
   "source": [
    "y_pred2 = knn.predict(X_test2)\n",
    "np.mean(y_pred2 == y_test2)"
   ]
  },
  {
   "cell_type": "code",
   "execution_count": 579,
   "id": "77f3b66d",
   "metadata": {},
   "outputs": [],
   "source": [
    "X_train1_scaled=X_train1.copy()\n",
    "X_test1_scaled=X_test1.copy()\n",
    "numeric_var = ['age', 'avg_glucose_level', 'bmi']\n",
    "from sklearn.preprocessing import MinMaxScaler\n",
    "scaler = MinMaxScaler()\n",
    "for i in numeric_var:\n",
    "    scaler.fit(X_train1[numeric_var])\n",
    "    X_train1_scaled[numeric_var]=scaler.transform(X_train1[numeric_var])\n",
    "    X_test1_scaled[numeric_var]=scaler.transform(X_test1[numeric_var])"
   ]
  },
  {
   "cell_type": "code",
   "execution_count": 580,
   "id": "15a0225b",
   "metadata": {},
   "outputs": [
    {
     "data": {
      "text/plain": [
       "0.9315403422982885"
      ]
     },
     "execution_count": 580,
     "metadata": {},
     "output_type": "execute_result"
    }
   ],
   "source": [
    "knn.fit(X_train1_scaled, y_train1)\n",
    "y_pred1_scaled = knn.predict(X_test1_scaled)\n",
    "np.mean(y_pred1_scaled == y_test1)"
   ]
  },
  {
   "cell_type": "code",
   "execution_count": 581,
   "id": "61516da4",
   "metadata": {},
   "outputs": [],
   "source": [
    "X_train2_scaled=X_train2.copy()\n",
    "X_test2_scaled=X_test2.copy()\n",
    "numeric_var = ['age', 'avg_glucose_level', 'bmi']\n",
    "from sklearn.preprocessing import MinMaxScaler\n",
    "scaler = MinMaxScaler()\n",
    "for i in numeric_var:\n",
    "    scaler.fit(X_train2[numeric_var])\n",
    "    X_train2_scaled[numeric_var]=scaler.transform(X_train2[numeric_var])\n",
    "    X_test2_scaled[numeric_var]=scaler.transform(X_test2[numeric_var])"
   ]
  },
  {
   "cell_type": "code",
   "execution_count": 582,
   "id": "6bd3ddad",
   "metadata": {},
   "outputs": [
    {
     "data": {
      "text/plain": [
       "0.9100156494522692"
      ]
     },
     "execution_count": 582,
     "metadata": {},
     "output_type": "execute_result"
    }
   ],
   "source": [
    "knn.fit(X_train2_scaled, y_train2)\n",
    "y_pred2 = knn.predict(X_test2_scaled)\n",
    "np.mean(y_pred2 == y_test2)"
   ]
  },
  {
   "cell_type": "code",
   "execution_count": 583,
   "id": "835d95a2",
   "metadata": {},
   "outputs": [
    {
     "name": "stdout",
     "output_type": "stream",
     "text": [
      "테스트 세트 정확도 : 0.96\n"
     ]
    }
   ],
   "source": [
    "from sklearn.svm import SVC\n",
    "svm = SVC(C=100)\n",
    "svm.fit(X_train1,y_train1)\n",
    "print(\"테스트 세트 정확도 : {:.2f}\".format(svm.score(X_test1,y_test1)))"
   ]
  },
  {
   "cell_type": "code",
   "execution_count": 584,
   "id": "1869da39",
   "metadata": {},
   "outputs": [
    {
     "name": "stdout",
     "output_type": "stream",
     "text": [
      "테스트 세트 정확도 : 0.95\n"
     ]
    }
   ],
   "source": [
    "from sklearn.svm import SVC\n",
    "svm = SVC(C=100)\n",
    "svm.fit(X_train2,y_train2)\n",
    "print(\"테스트 세트 정확도 : {:.2f}\".format(svm.score(X_test2,y_test2)))"
   ]
  },
  {
   "cell_type": "code",
   "execution_count": 585,
   "id": "6da0db5f",
   "metadata": {},
   "outputs": [
    {
     "name": "stdout",
     "output_type": "stream",
     "text": [
      "테스트 세트 정확도 : 0.96\n"
     ]
    }
   ],
   "source": [
    "from sklearn.svm import SVC\n",
    "svm = SVC(C=100)\n",
    "svm.fit(X_train1_scaled,y_train1)\n",
    "print(\"테스트 세트 정확도 : {:.2f}\".format(svm.score(X_test1_scaled,y_test1)))"
   ]
  },
  {
   "cell_type": "code",
   "execution_count": 586,
   "id": "bb2a1e1b",
   "metadata": {},
   "outputs": [
    {
     "name": "stdout",
     "output_type": "stream",
     "text": [
      "테스트 세트 정확도 : 0.95\n"
     ]
    }
   ],
   "source": [
    "from sklearn.svm import SVC\n",
    "svm = SVC(C=100)\n",
    "svm.fit(X_train2_scaled,y_train2)\n",
    "print(\"테스트 세트 정확도 : {:.2f}\".format(svm.score(X_test2_scaled,y_test2)))"
   ]
  }
 ],
 "metadata": {
  "kernelspec": {
   "display_name": "Python 3 (ipykernel)",
   "language": "python",
   "name": "python3"
  },
  "language_info": {
   "codemirror_mode": {
    "name": "ipython",
    "version": 3
   },
   "file_extension": ".py",
   "mimetype": "text/x-python",
   "name": "python",
   "nbconvert_exporter": "python",
   "pygments_lexer": "ipython3",
   "version": "3.9.5"
  }
 },
 "nbformat": 4,
 "nbformat_minor": 5
}
